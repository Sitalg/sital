{
 "cells": [
  {
   "cell_type": "markdown",
   "metadata": {},
   "source": [
    "Primera parte:"
   ]
  },
  {
   "cell_type": "code",
   "execution_count": 1,
   "metadata": {},
   "outputs": [
    {
     "name": "stdout",
     "output_type": "stream",
     "text": [
      "['M1', 'M200', 'M17', 'M31', 'M87', 'M104']\n"
     ]
    }
   ],
   "source": [
    "#1. Cree una nueva variable llamada `list_messier` y asigne los elementos `\"M1\", \"M200\", \"M17\", \"M31\",\"M87\", \"M104\"`. Imprima la lista completa utilizando `print()`.\n",
    "list_messier=[\"M1\", \"M200\", \"M17\", \"M31\",\"M87\", \"M104\"]\n",
    "print(list_messier)"
   ]
  },
  {
   "cell_type": "code",
   "execution_count": 2,
   "metadata": {},
   "outputs": [
    {
     "name": "stdout",
     "output_type": "stream",
     "text": [
      "['M1', 'M200', 'M17', 'M31', 'M87', 'M104', 'M97']\n"
     ]
    }
   ],
   "source": [
    "#2. Agrege un nuevo elemento `\"M97\"` a la lista existente `list_messier` utilizando la función `.append()`\n",
    "list_messier.append(\"M97\")\n",
    "print (list_messier)"
   ]
  },
  {
   "cell_type": "code",
   "execution_count": 33,
   "metadata": {},
   "outputs": [
    {
     "name": "stdout",
     "output_type": "stream",
     "text": [
      "M17\n"
     ]
    }
   ],
   "source": [
    "#3. Retorne el tercer elemento de la lista utilizando indexado.\n",
    "print (list_messier[2])"
   ]
  },
  {
   "cell_type": "code",
   "execution_count": 8,
   "metadata": {},
   "outputs": [
    {
     "name": "stdout",
     "output_type": "stream",
     "text": [
      "M97\n"
     ]
    }
   ],
   "source": [
    "#4. Retorne el último elemento de la lista utilizando índices negativos.\n",
    "print (list_messier[-1])"
   ]
  },
  {
   "cell_type": "code",
   "execution_count": 30,
   "metadata": {},
   "outputs": [
    {
     "name": "stdout",
     "output_type": "stream",
     "text": [
      "['M1', 'M200', 'M17', 'M31', 'M87', 'M104']\n"
     ]
    }
   ],
   "source": [
    "#5. Las listas también pueden retornar rangos de valores utilizando slicing. Retorne el segundo, tercero, y cuarto elemento.\n",
    "list_messier=[\"M1\", \"M200\", \"M17\", \"M31\",\"M87\", \"M104\"]\n",
    "print(list_messier)"
   ]
  },
  {
   "cell_type": "code",
   "execution_count": 34,
   "metadata": {},
   "outputs": [
    {
     "name": "stdout",
     "output_type": "stream",
     "text": [
      "['M200', 'M17', 'M31']\n"
     ]
    }
   ],
   "source": [
    "print(list_messier[1:4])"
   ]
  },
  {
   "cell_type": "code",
   "execution_count": 37,
   "metadata": {},
   "outputs": [
    {
     "data": {
      "text/plain": [
       "6"
      ]
     },
     "execution_count": 37,
     "metadata": {},
     "output_type": "execute_result"
    }
   ],
   "source": [
    "#6. ¿Cuántos elementos tiene esta lista? Retorne el largo de la lista utilizando la función `len()`.\n",
    "len(list_messier)"
   ]
  },
  {
   "cell_type": "code",
   "execution_count": null,
   "metadata": {},
   "outputs": [],
   "source": [
    "#7. La palabra `in` se puede utilizar para saber si un elemento existe dentro de una lista. Utilice esta palabra junto a un condicional `if` e imprima la frase `\"M87 se encuentra en la lista\"`, si y solo si el elemento \"M87\" se encuentra dentro de esta lista.\n"
   ]
  }
 ],
 "metadata": {
  "kernelspec": {
   "display_name": "Python 3",
   "language": "python",
   "name": "python3"
  },
  "language_info": {
   "codemirror_mode": {
    "name": "ipython",
    "version": 3
   },
   "file_extension": ".py",
   "mimetype": "text/x-python",
   "name": "python",
   "nbconvert_exporter": "python",
   "pygments_lexer": "ipython3",
   "version": "3.8.5"
  }
 },
 "nbformat": 4,
 "nbformat_minor": 4
}
