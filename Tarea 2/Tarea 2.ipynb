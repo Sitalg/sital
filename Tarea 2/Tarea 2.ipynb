{
 "cells": [
  {
   "cell_type": "markdown",
   "metadata": {},
   "source": [
    "Primera parte:"
   ]
  },
  {
   "cell_type": "code",
   "execution_count": 77,
   "metadata": {},
   "outputs": [
    {
     "name": "stdout",
     "output_type": "stream",
     "text": [
      "['M1', 'M200', 'M17', 'M31', 'M87', 'M104']\n"
     ]
    }
   ],
   "source": [
    "#1. Cree una nueva variable llamada `list_messier` y asigne los elementos `\"M1\", \"M200\", \"M17\", \"M31\",\"M87\", \"M104\"`. Imprima la lista completa utilizando `print()`.\n",
    "list_messier=[\"M1\", \"M200\", \"M17\", \"M31\",\"M87\", \"M104\"]\n",
    "print(list_messier)"
   ]
  },
  {
   "cell_type": "code",
   "execution_count": 78,
   "metadata": {},
   "outputs": [
    {
     "name": "stdout",
     "output_type": "stream",
     "text": [
      "['M1', 'M200', 'M17', 'M31', 'M87', 'M104', 'M97']\n"
     ]
    }
   ],
   "source": [
    "#2. Agrege un nuevo elemento `\"M97\"` a la lista existente `list_messier` utilizando la función `.append()`\n",
    "list_messier.append(\"M97\")\n",
    "print (list_messier)"
   ]
  },
  {
   "cell_type": "code",
   "execution_count": 79,
   "metadata": {},
   "outputs": [
    {
     "name": "stdout",
     "output_type": "stream",
     "text": [
      "M17\n"
     ]
    }
   ],
   "source": [
    "#3. Retorne el tercer elemento de la lista utilizando indexado.\n",
    "print (list_messier[2])"
   ]
  },
  {
   "cell_type": "code",
   "execution_count": 80,
   "metadata": {},
   "outputs": [
    {
     "name": "stdout",
     "output_type": "stream",
     "text": [
      "M97\n"
     ]
    }
   ],
   "source": [
    "#4. Retorne el último elemento de la lista utilizando índices negativos.\n",
    "print (list_messier[-1])"
   ]
  },
  {
   "cell_type": "code",
   "execution_count": 81,
   "metadata": {},
   "outputs": [
    {
     "name": "stdout",
     "output_type": "stream",
     "text": [
      "['M1', 'M200', 'M17', 'M31', 'M87', 'M104']\n"
     ]
    }
   ],
   "source": [
    "#5. Las listas también pueden retornar rangos de valores utilizando slicing. Retorne el segundo, tercero, y cuarto elemento.\n",
    "list_messier=[\"M1\", \"M200\", \"M17\", \"M31\",\"M87\", \"M104\"]\n",
    "print(list_messier)"
   ]
  },
  {
   "cell_type": "code",
   "execution_count": 82,
   "metadata": {},
   "outputs": [
    {
     "name": "stdout",
     "output_type": "stream",
     "text": [
      "['M200', 'M17', 'M31']\n"
     ]
    }
   ],
   "source": [
    "print(list_messier[1:4])"
   ]
  },
  {
   "cell_type": "code",
   "execution_count": 83,
   "metadata": {},
   "outputs": [
    {
     "data": {
      "text/plain": [
       "6"
      ]
     },
     "execution_count": 83,
     "metadata": {},
     "output_type": "execute_result"
    }
   ],
   "source": [
    "#6. ¿Cuántos elementos tiene esta lista? Retorne el largo de la lista utilizando la función `len()`.\n",
    "len(list_messier)"
   ]
  },
  {
   "cell_type": "code",
   "execution_count": 84,
   "metadata": {},
   "outputs": [
    {
     "name": "stdout",
     "output_type": "stream",
     "text": [
      "M87 se encuentra en la lista\n"
     ]
    }
   ],
   "source": [
    "#7. La palabra `in` se puede utilizar para saber si un elemento existe dentro de una lista. Utilice esta palabra junto a un condicional `if` e imprima la frase `\"M87 se encuentra en la lista\"`, si y solo si el elemento \"M87\" se encuentra dentro de esta lista.\n",
    "list_messier=[\"M1\", \"M200\", \"M17\", \"M31\",\"M87\", \"M104\"]\n",
    "if \"M87\" in list_messier:\n",
    "    print(\"M87 se encuentra en la lista\")"
   ]
  },
  {
   "cell_type": "code",
   "execution_count": 85,
   "metadata": {},
   "outputs": [
    {
     "name": "stdout",
     "output_type": "stream",
     "text": [
      "['M1', 'NGC 205', 'M17', 'M31', 'M87', 'M104']\n"
     ]
    }
   ],
   "source": [
    "#8. El elemento \"M200\" no es un objeto real del catálogo de Messier. Cambie el elemento \"M200\" por el elemento \"NGC 205\".\n",
    "list_messier[1]=\"NGC 205\"\n",
    "print(list_messier)"
   ]
  },
  {
   "cell_type": "code",
   "execution_count": 86,
   "metadata": {},
   "outputs": [
    {
     "name": "stdout",
     "output_type": "stream",
     "text": [
      "['M1', 'M7', 'NGC 205', 'M17', 'M31', 'M87', 'M104']\n"
     ]
    }
   ],
   "source": [
    "#9. Inserte el valor \"M7\" entre los elementos \"M1\" y \"NGC 205\" utilizando la función `´.insert()`. Imprima la lista completa.\n",
    "list_messier.insert(1,\"M7\")\n",
    "print(list_messier)"
   ]
  },
  {
   "cell_type": "code",
   "execution_count": 87,
   "metadata": {},
   "outputs": [
    {
     "name": "stdout",
     "output_type": "stream",
     "text": [
      "['M1', 'M7', 'NGC 205', 'M17', 'M87', 'M104']\n"
     ]
    }
   ],
   "source": [
    "#10. Borre el elemento \"M31\" de la lista, utilizando la función `remove()`. Imprima la lista completa.\n",
    "list_messier.remove(\"M31\")\n",
    "print(list_messier)"
   ]
  },
  {
   "cell_type": "code",
   "execution_count": 88,
   "metadata": {},
   "outputs": [
    {
     "name": "stdout",
     "output_type": "stream",
     "text": [
      "['M7', 'NGC 205', 'M17', 'M87', 'M104']\n"
     ]
    }
   ],
   "source": [
    "#11. Borre el primer elemento de la lista, en el índice 0 utilizando la función `.pop()`. Imprima la lista completa.\n",
    "list_messier.pop(0)\n",
    "print(list_messier)"
   ]
  },
  {
   "cell_type": "code",
   "execution_count": 89,
   "metadata": {},
   "outputs": [
    {
     "name": "stdout",
     "output_type": "stream",
     "text": [
      "['M7', 'NGC 205', 'M17', 'M104']\n"
     ]
    }
   ],
   "source": [
    "#12. Borre el penúltimo elemento de la lista utilizando la palabra clave `del` e.g. `del mi_lista[indice_a_borrar]`.\n",
    "del list_messier[3]\n",
    "print(list_messier)"
   ]
  },
  {
   "cell_type": "code",
   "execution_count": 90,
   "metadata": {},
   "outputs": [
    {
     "name": "stdout",
     "output_type": "stream",
     "text": [
      "[]\n"
     ]
    }
   ],
   "source": [
    "#13. Elimine todos los elementos de la lista `list_messier` utilizando la función clear. ¿La lista aún existe? ¿Cómo podemos borrar la lista por completo?\n",
    "list_messier.clear()\n",
    "print(list_messier)"
   ]
  },
  {
   "cell_type": "code",
   "execution_count": 91,
   "metadata": {},
   "outputs": [
    {
     "ename": "SyntaxError",
     "evalue": "invalid syntax (<ipython-input-91-a2922bdf2f66>, line 2)",
     "output_type": "error",
     "traceback": [
      "\u001b[1;36m  File \u001b[1;32m\"<ipython-input-91-a2922bdf2f66>\"\u001b[1;36m, line \u001b[1;32m2\u001b[0m\n\u001b[1;33m    del list_messier[]\u001b[0m\n\u001b[1;37m                     ^\u001b[0m\n\u001b[1;31mSyntaxError\u001b[0m\u001b[1;31m:\u001b[0m invalid syntax\n"
     ]
    }
   ],
   "source": [
    "#14. Borre la lista `list_messier` por completo utilizando la palabra clave `del`. ¿Qué pasa si intentamos llamar a la lista?\n",
    "del list_messier[]\n",
    "print(list_messier)"
   ]
  },
  {
   "cell_type": "markdown",
   "metadata": {},
   "source": [
    "Conclusión:\n",
    "    Utilizando la función .clear() se borran todos los elemnetos de la lista pero esta aun existe, mientras que utilizando del mi_lista[] se borra por completo la existencia de esa lista del programa."
   ]
  },
  {
   "cell_type": "markdown",
   "metadata": {},
   "source": [
    "Segunda parte:"
   ]
  },
  {
   "cell_type": "markdown",
   "metadata": {},
   "source": [
    "1. La siguiente tabla presenta una tabla con las masas de los planetas del sistema solar.\n",
    "\n",
    "| Planeta | Masa en kg |\n",
    "| --- | --- |\n",
    "| Mercurio | 3.302e23 |\n",
    "| Venus | 4.8690e24 |\n",
    "| Tierra | 5.9742e24 |\n",
    "| Marte | 6.4191e23 |\n",
    "| Júpiter | 1.8987e27 |\n",
    "| Saturno | 5.6851e26 |\n",
    "| Urano | 8.6849e25 |\n",
    "| Neptuno | 1.0244e26 |\n",
    "- Cree una nueva lista llamada `list_masas` y agregue todas las masas en la tabla, utilizando notación científica.\n",
    "- ¿Cuál es el valor máximo en la lista? ¿Cuál es el valor mínimo? Utilice las funciones `max()` y `min()` para retornar ambos valores.\n",
    "- Sume todos los valores de la lista utilizando la función `sum()` ¿Cuál es el total de la masa de los planetas?\n",
    "- Confirme su respuesta anterior iterando sobre la lista y sumando sus valores: utilizando un `for` junto a un `in` y utilizando una variable de ayuda `total_masas` sume el total de las masas en la lista. Imprima el total de las masas.\n",
    "- Una masa solar equivale a 2e30 kg ¿A qué porcentaje de la masa del Sol equivale el total de la sumatoria de la masa de los planetas? Imprima el resultado."
   ]
  },
  {
   "cell_type": "code",
   "execution_count": 93,
   "metadata": {},
   "outputs": [],
   "source": [
    "list_masas=[3.302*10**23 , 4.8690*10**24 ,5.9742*10**24 , 6.4191*10**23 , 1.8987*10**27 , 5.6851*10**26 , 8.6849*10**25 , 1.0244*10**26]"
   ]
  },
  {
   "cell_type": "code",
   "execution_count": 96,
   "metadata": {},
   "outputs": [
    {
     "data": {
      "text/plain": [
       "1.8987000000000002e+27"
      ]
     },
     "execution_count": 96,
     "metadata": {},
     "output_type": "execute_result"
    }
   ],
   "source": [
    "max(list_masas) #valor maximo de la lista"
   ]
  },
  {
   "cell_type": "code",
   "execution_count": 97,
   "metadata": {},
   "outputs": [
    {
     "data": {
      "text/plain": [
       "3.302e+23"
      ]
     },
     "execution_count": 97,
     "metadata": {},
     "output_type": "execute_result"
    }
   ],
   "source": [
    "min(list_masas) #valor minimo de la lista"
   ]
  },
  {
   "cell_type": "code",
   "execution_count": 119,
   "metadata": {},
   "outputs": [
    {
     "data": {
      "text/plain": [
       "2.66831431e+27"
      ]
     },
     "execution_count": 119,
     "metadata": {},
     "output_type": "execute_result"
    }
   ],
   "source": [
    "sum(list_masas) #total de las masas de los planetas"
   ]
  },
  {
   "cell_type": "code",
   "execution_count": 129,
   "metadata": {},
   "outputs": [
    {
     "name": "stdout",
     "output_type": "stream",
     "text": [
      "3.302e+23\n",
      "5.1992e+24\n",
      "1.11734e+25\n",
      "1.181531e+25\n",
      "1.9105153100000002e+27\n",
      "2.47902531e+27\n",
      "2.56587431e+27\n",
      "2.66831431e+27\n"
     ]
    }
   ],
   "source": [
    "i=0\n",
    "total_masas=0\n",
    "\n",
    "for i in list_masas:\n",
    "    total_masas=total_masas+i\n",
    "    i=i+1\n",
    "    print(total_masas)"
   ]
  },
  {
   "cell_type": "code",
   "execution_count": 134,
   "metadata": {},
   "outputs": [
    {
     "name": "stdout",
     "output_type": "stream",
     "text": [
      "1.3341571550000002e+59\n"
     ]
    }
   ],
   "source": [
    "#Una masa solar equivale a 2*10**30 kg ¿A qué porcentaje de la masa del sol equivale el total de la sumatoria de la masa de los planetas?\n",
    "porcentaje=(total_masas*100)/2*10**30\n",
    "print(porcentaje)"
   ]
  },
  {
   "cell_type": "code",
   "execution_count": 137,
   "metadata": {},
   "outputs": [],
   "source": [
    "#2. Cree un nuevo diccionario llamado `dic_masas` que contenga el nombre del planeta y su masa, de la forma `\"Mercurio\" : 3,302e23`. Imprima cada elemento en el diccionario utilizando un `for` loop.\n",
    "dic_masas={\"Mercurio\" : 3.302*10**23 ,\"Venus\" : 4.8690*10**24 , \"Tierra\" : 5.9742*10**24 , \"Marte\" : 6.4191*10**23 , \"Júpiter\" : 1.8987*10**27 , \"Saturno\" : 5.6851*10**26 , \"Urano\" : 8.6849*10**25 , \"Neptuno\" : 1.0244*10**26}"
   ]
  },
  {
   "cell_type": "code",
   "execution_count": 139,
   "metadata": {},
   "outputs": [
    {
     "data": {
      "text/plain": [
       "dict_keys(['Mercurio', 'Venus', 'Tierra', 'Marte', 'Júpiter', 'Saturno', 'Urano', 'Neptuno'])"
      ]
     },
     "execution_count": 139,
     "metadata": {},
     "output_type": "execute_result"
    }
   ],
   "source": [
    "dic_masas.keys()"
   ]
  },
  {
   "cell_type": "code",
   "execution_count": 183,
   "metadata": {},
   "outputs": [
    {
     "data": {
      "text/plain": [
       "<function dict.values>"
      ]
     },
     "execution_count": 183,
     "metadata": {},
     "output_type": "execute_result"
    }
   ],
   "source": [
    "dic_masas.values"
   ]
  },
  {
   "cell_type": "code",
   "execution_count": 184,
   "metadata": {},
   "outputs": [
    {
     "name": "stdout",
     "output_type": "stream",
     "text": [
      "Mercurio - 3.302e+23\n",
      "Venus - 4.869e+24\n",
      "Tierra - 5.974199999999999e+24\n",
      "Marte - 6.419099999999999e+23\n",
      "Júpiter - 1.8987000000000002e+27\n",
      "Saturno - 5.685100000000001e+26\n",
      "Urano - 8.684900000000002e+25\n",
      "Neptuno - 1.0244e+26\n"
     ]
    }
   ],
   "source": [
    "for key, values in dic_masas.items():\n",
    "    print(key,\"-\", values)"
   ]
  },
  {
   "cell_type": "code",
   "execution_count": 185,
   "metadata": {},
   "outputs": [
    {
     "name": "stdout",
     "output_type": "stream",
     "text": [
      "{'Mercurio': 3.302e+23, 'Venus': 4.869e+24, 'Tierra': 5.974199999999999e+24, 'Marte': 6.419099999999999e+23, 'Júpiter': 1.8987000000000002e+27, 'Saturno': 5.685100000000001e+26, 'Urano': 8.684900000000002e+25, 'Neptuno': 1.0244e+26}\n"
     ]
    }
   ],
   "source": [
    "#3. Imprima cada elemento dentro del `dic_masas` utilizando un `while` loop.\n",
    "while dic_masas:\n",
    "    print(dic_masas)\n",
    "    break"
   ]
  },
  {
   "cell_type": "code",
   "execution_count": 201,
   "metadata": {},
   "outputs": [
    {
     "name": "stdout",
     "output_type": "stream",
     "text": [
      "[3.302e+23, 4.869e+24, 5.974199999999999e+24, 6.419099999999999e+23, 1.8987000000000002e+27, 5.685100000000001e+26, 8.684900000000002e+25, 1.0244e+26]\n"
     ]
    }
   ],
   "source": [
    "#4. Utilizando un `for` o `while` loop imprima la división  de la masa del planeta entre `1_masa_solar * 100`, e.g. `masa_planeta/masa_solar *100`.\n",
    "dic_masas={\"Mercurio\" : 3.302*10**23 ,\"Venus\" : 4.8690*10**24 , \"Tierra\" : 5.9742*10**24 , \"Marte\" : 6.4191*10**23 , \"Júpiter\" : 1.8987*10**27 , \"Saturno\" : 5.6851*10**26 , \"Urano\" : 8.6849*10**25 , \"Neptuno\" : 1.0244*10**26}\n",
    "lista=list(dic_masas.values())\n",
    "print(lista)"
   ]
  },
  {
   "cell_type": "code",
   "execution_count": 202,
   "metadata": {},
   "outputs": [
    {
     "name": "stdout",
     "output_type": "stream",
     "text": [
      "1.651e+55\n",
      "2.4345000000000004e+56\n",
      "2.9870999999999997e+56\n",
      "3.2095499999999995e+55\n",
      "9.4935e+58\n",
      "2.8425500000000004e+58\n",
      "4.342450000000001e+57\n",
      "5.122e+57\n"
     ]
    }
   ],
   "source": [
    "for i in lista:\n",
    "    porcentaje=(i/2*10**30)*100\n",
    "    print(porcentaje)"
   ]
  },
  {
   "cell_type": "code",
   "execution_count": 211,
   "metadata": {},
   "outputs": [
    {
     "name": "stdout",
     "output_type": "stream",
     "text": [
      "[3.302e+23, 4.869e+24, 5.974199999999999e+24, 6.419099999999999e+23, 1.8987000000000002e+27, 5.685100000000001e+26, 8.684900000000002e+25, 1.0244e+26]\n"
     ]
    }
   ],
   "source": [
    "#5. Utilizando un `for` o `while` loop sume todas las masas de los planetas, imprima una variable llamada `masa_total` para guardar el resultado.\n",
    "dic_masas={\"Mercurio\" : 3.302*10**23 ,\"Venus\" : 4.8690*10**24 , \"Tierra\" : 5.9742*10**24 , \"Marte\" : 6.4191*10**23 , \"Júpiter\" : 1.8987*10**27 , \"Saturno\" : 5.6851*10**26 , \"Urano\" : 8.6849*10**25 , \"Neptuno\" : 1.0244*10**26}\n",
    "lista=list(dic_masas.values())\n",
    "print(lista)"
   ]
  },
  {
   "cell_type": "code",
   "execution_count": 213,
   "metadata": {},
   "outputs": [
    {
     "name": "stdout",
     "output_type": "stream",
     "text": [
      "3.302e+23\n",
      "5.1992e+24\n",
      "1.11734e+25\n",
      "1.181531e+25\n",
      "1.9105153100000002e+27\n",
      "2.47902531e+27\n",
      "2.56587431e+27\n",
      "2.66831431e+27\n"
     ]
    }
   ],
   "source": [
    "i=0\n",
    "masa_total=0\n",
    "for i in lista:\n",
    "    masa_total=masa_total+i\n",
    "    i=i+1\n",
    "    print(masa_total)"
   ]
  },
  {
   "cell_type": "code",
   "execution_count": 2,
   "metadata": {},
   "outputs": [
    {
     "ename": "PermissionError",
     "evalue": "[Errno 13] Permission denied: 'Tarea 2.txt'",
     "output_type": "error",
     "traceback": [
      "\u001b[1;31m---------------------------------------------------------------------------\u001b[0m",
      "\u001b[1;31mPermissionError\u001b[0m                           Traceback (most recent call last)",
      "\u001b[1;32m<ipython-input-2-4b89bbf56b43>\u001b[0m in \u001b[0;36m<module>\u001b[1;34m\u001b[0m\n\u001b[0;32m      1\u001b[0m \u001b[1;31m#6. Guarde el resultado del total de masas en un archivo .txt utilizando Python.\u001b[0m\u001b[1;33m\u001b[0m\u001b[1;33m\u001b[0m\u001b[1;33m\u001b[0m\u001b[0m\n\u001b[1;32m----> 2\u001b[1;33m \u001b[0mdatos\u001b[0m\u001b[1;33m=\u001b[0m\u001b[0mopen\u001b[0m\u001b[1;33m(\u001b[0m\u001b[1;34m\"Tarea 2.txt\"\u001b[0m\u001b[1;33m,\u001b[0m\u001b[1;34m\"w\"\u001b[0m\u001b[1;33m)\u001b[0m\u001b[1;33m\u001b[0m\u001b[1;33m\u001b[0m\u001b[0m\n\u001b[0m\u001b[0;32m      3\u001b[0m \u001b[0mdatos\u001b[0m\u001b[1;33m.\u001b[0m\u001b[0mwrite\u001b[0m\u001b[1;33m(\u001b[0m\u001b[0mmasa_total\u001b[0m\u001b[1;33m=\u001b[0m\u001b[1;36m2.66831431e+27\u001b[0m\u001b[1;33m)\u001b[0m\u001b[1;33m\u001b[0m\u001b[1;33m\u001b[0m\u001b[0m\n\u001b[0;32m      4\u001b[0m \u001b[0mdatos\u001b[0m\u001b[1;33m.\u001b[0m\u001b[0mclose\u001b[0m\u001b[1;33m(\u001b[0m\u001b[1;33m)\u001b[0m\u001b[1;33m\u001b[0m\u001b[1;33m\u001b[0m\u001b[0m\n",
      "\u001b[1;31mPermissionError\u001b[0m: [Errno 13] Permission denied: 'Tarea 2.txt'"
     ]
    }
   ],
   "source": [
    "#6. Guarde el resultado del total de masas en un archivo .txt utilizando Python.\n",
    "datos=open(\"Tarea 2.txt\",\"w\")\n",
    "datos.write(masa_total=2.66831431e+27)\n",
    "datos.close()"
   ]
  },
  {
   "cell_type": "code",
   "execution_count": null,
   "metadata": {},
   "outputs": [],
   "source": []
  }
 ],
 "metadata": {
  "kernelspec": {
   "display_name": "Python 3",
   "language": "python",
   "name": "python3"
  },
  "language_info": {
   "codemirror_mode": {
    "name": "ipython",
    "version": 3
   },
   "file_extension": ".py",
   "mimetype": "text/x-python",
   "name": "python",
   "nbconvert_exporter": "python",
   "pygments_lexer": "ipython3",
   "version": "3.8.5"
  }
 },
 "nbformat": 4,
 "nbformat_minor": 4
}
