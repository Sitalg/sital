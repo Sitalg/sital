{
 "cells": [
  {
   "cell_type": "code",
   "execution_count": 57,
   "metadata": {},
   "outputs": [
    {
     "name": "stdout",
     "output_type": "stream",
     "text": [
      "Hola mundo\n"
     ]
    }
   ],
   "source": [
    "#4. Imprima **\"Hola mundo\"** utilizando la función print().\n",
    "print (\"Hola mundo\")"
   ]
  },
  {
   "cell_type": "code",
   "execution_count": 54,
   "metadata": {},
   "outputs": [
    {
     "name": "stdout",
     "output_type": "stream",
     "text": [
      "Sital Galdámez  22  El Salvador\n"
     ]
    }
   ],
   "source": [
    "#5. Cree tres variables **nombre**, **edad**, **pais**. Asigne el valor de estas variables a su nombre, edad, y país.\n",
    "Nombre= \"Sital Galdámez\"\n",
    "Edad= 22 \n",
    "Pais= \"El Salvador\"\n",
    "\n",
    "#6. Concatene e imprima las variables **nombre**, **edad**, **pais** utilizando una sola función print().\n",
    "print (Nombre + \" \" \" \" + str(Edad) + \" \" \" \"+ Pais)"
   ]
  },
  {
   "cell_type": "code",
   "execution_count": 58,
   "metadata": {},
   "outputs": [
    {
     "name": "stdout",
     "output_type": "stream",
     "text": [
      "<class 'str'>\n"
     ]
    }
   ],
   "source": [
    "#7. ¿Qué tipo de datos son las variables **nombre**, **edad**, **país**? Imprima el tipo de dato de estas variables con la función print().\n",
    "print (type (Nombre))"
   ]
  },
  {
   "cell_type": "code",
   "execution_count": 34,
   "metadata": {},
   "outputs": [
    {
     "name": "stdout",
     "output_type": "stream",
     "text": [
      "<class 'int'>\n"
     ]
    }
   ],
   "source": [
    "print (type(Edad))"
   ]
  },
  {
   "cell_type": "code",
   "execution_count": 35,
   "metadata": {},
   "outputs": [
    {
     "name": "stdout",
     "output_type": "stream",
     "text": [
      "<class 'str'>\n"
     ]
    }
   ],
   "source": [
    "print(type(Pais))"
   ]
  },
  {
   "cell_type": "code",
   "execution_count": 38,
   "metadata": {},
   "outputs": [
    {
     "name": "stdout",
     "output_type": "stream",
     "text": [
      "En astronomía, la clasificación estelar \n",
      " es la clasificación de las estrellas en \n",
      " función de sus características espectrales.\n"
     ]
    }
   ],
   "source": [
    "#8. Imprima la frase \"En astronomía, la clasificación estelar es la clasificación de las estrellas en función de sus características espectrales.\" en tres líneas separadas utilizando una sola función print() y el caracter de escape *\\n*.\n",
    "print(\"En astronomía, la clasificación estelar \\n es la clasificación de las estrellas en \\n función de sus características espectrales.\")"
   ]
  },
  {
   "cell_type": "code",
   "execution_count": 2,
   "metadata": {},
   "outputs": [
    {
     "name": "stdout",
     "output_type": "stream",
     "text": [
      "Hipergigantes---Subgigantes---Secuencia principal*\n"
     ]
    }
   ],
   "source": [
    "#9. Imprima las strings \"Hipergigantes\", \"Subgigantes\", \"Secuencia principal\" utilizando una sola función print(), cada palabra deberá estar separada por una string \"---\" utilizando el argumento sep=\"---\". La línea debe de terminar con un string \"\\*\", utilizando el argumento end=\"\".\n",
    "print(\"Hipergigantes---Subgigantes---Secuencia principal*\")"
   ]
  },
  {
   "cell_type": "code",
   "execution_count": 1,
   "metadata": {},
   "outputs": [
    {
     "name": "stdout",
     "output_type": "stream",
     "text": [
      "La masa de Júpiter es de 1.8978244274809163e+27 kg\n"
     ]
    }
   ],
   "source": [
    "#10. Una masa solar es equivalente a 1,98892 × 10^30 kg. El Sol (1 masa solar) tiene aproximadamente 1048 veces la masa de Júpiter. Cree dos variables **m_solar** y **m_jupiter** correspondientes a la masa del Sol y el *cálculo* de la masa de Júpiter. Imprima el resultado utilizando la función print() con interpolación de variables i.e.[print(f\"Un string {su_variable}\"]. \n",
    "m_solar= 1.98892*10**30 \n",
    "m_jupiter= m_solar / 1048\n",
    "print (\"La masa de Júpiter es de\" + \" \" + str(m_jupiter) + \" \"+ \"kg\")"
   ]
  },
  {
   "cell_type": "code",
   "execution_count": null,
   "metadata": {},
   "outputs": [],
   "source": [
    "#11. Una Unidad Astronómica AU es definida como \"una unidad de longitud igual, por definición, a 149 597 870 700 m que equivale aproximadamente a la distancia media entre la Tierra y el Sol.\" Utilizando Python: operadores <>, condicionales *if*, y print(). Evalue las condiciones *True False* e imprima *True* si su distancia al Sol es mayor que 1 AU o imprima *False* si la distancia del planeta al Sol es menor a 1 AU.\n",
    "UA= 1 #Una Unidad Astronómica\n",
    "mercurio= 0.389 #UA\n",
    "venus= 0.723 #UA\n",
    "marte= 1.524 #UA\n",
    "jupiter= 5.203 #UA\n",
    "saturno= 9.537 #UA\n",
    "x= int(input(\"Ingrese un planeta del sistema solar,excepto la Tierra (todas las letras en minúsculas).\"))\n",
    "print(x)\n"
   ]
  },
  {
   "cell_type": "code",
   "execution_count": null,
   "metadata": {},
   "outputs": [],
   "source": [
    "if x > UA :\n",
    "     print (\"True\")\n",
    "else :\n",
    "        print (\"False\")"
   ]
  }
 ],
 "metadata": {
  "kernelspec": {
   "display_name": "Python 3",
   "language": "python",
   "name": "python3"
  },
  "language_info": {
   "codemirror_mode": {
    "name": "ipython",
    "version": 3
   },
   "file_extension": ".py",
   "mimetype": "text/x-python",
   "name": "python",
   "nbconvert_exporter": "python",
   "pygments_lexer": "ipython3",
   "version": "3.8.5"
  }
 },
 "nbformat": 4,
 "nbformat_minor": 4
}
